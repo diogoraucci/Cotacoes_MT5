{
 "cells": [
  {
   "cell_type": "markdown",
   "id": "36eaca31",
   "metadata": {},
   "source": [
    "\n",
    "<img src=\"img/banner.png\" alt=\"Exemplo de imagem\" width=100%/>"
   ]
  },
  {
   "cell_type": "markdown",
   "id": "79185f7d",
   "metadata": {},
   "source": [
    "# Este NoteBook Utiliza o Terminal de Negociações MetaTrader5 Para Coletar Dados Históricos de Ativos Financeiros e Cria Arquivo .CSV Com as Respectivas Cotações.\n",
    "### Para sua utilização é necessário:\n",
    "    1. Ter conta ativa em alguma corretora de valores que forneça sinal para o terminal de negociações 'MetaTrader 5'.\n",
    "    2. Ter instalado o terminal de negociações 'MetaTrader 5'.\n",
    "    3. Logar a conta da corretora ao terminal de negociações 'MetaTrader 5'\n",
    "    \n",
    "### Referência\n",
    "    https://www.mql5.com/en/docs/python_metatrader5"
   ]
  },
  {
   "cell_type": "markdown",
   "id": "5994a9f1",
   "metadata": {},
   "source": [
    "# Definir Cores Para Células MarkDown"
   ]
  },
  {
   "cell_type": "code",
   "execution_count": 193,
   "id": "35093850",
   "metadata": {},
   "outputs": [
    {
     "data": {
      "text/html": [
       "\n",
       "<style>\n",
       "    h1 {\n",
       "        color: #6600cc;\n",
       "    }\n",
       "    h2,h3 {\n",
       "    color: blue;\n",
       "    }\n",
       "    h4 {\n",
       "    color: orange;\n",
       "    }\n",
       "    \n",
       "</style>\n"
      ],
      "text/plain": [
       "<IPython.core.display.HTML object>"
      ]
     },
     "execution_count": 193,
     "metadata": {},
     "output_type": "execute_result"
    }
   ],
   "source": [
    "from IPython.core.display import HTML\n",
    "\n",
    "HTML(\"\"\"\n",
    "<style>\n",
    "    h1 {\n",
    "        color: #6600cc;\n",
    "    }\n",
    "    h2,h3 {\n",
    "    color: blue;\n",
    "    }\n",
    "    h4 {\n",
    "    color: orange;\n",
    "    }\n",
    "    \n",
    "</style>\n",
    "\"\"\")"
   ]
  },
  {
   "cell_type": "markdown",
   "id": "f85a36a5",
   "metadata": {},
   "source": [
    "# Instanado Biblioteca"
   ]
  },
  {
   "cell_type": "code",
   "execution_count": 7,
   "id": "e0e187ba",
   "metadata": {
    "collapsed": true
   },
   "outputs": [
    {
     "name": "stdout",
     "output_type": "stream",
     "text": [
      "Requirement already satisfied: metatrader5 in c:\\users\\diogo\\anaconda3\\lib\\site-packages (5.0.44)\n",
      "Requirement already satisfied: numpy>=1.7 in c:\\users\\diogo\\anaconda3\\lib\\site-packages (from metatrader5) (1.24.2)\n"
     ]
    },
    {
     "name": "stderr",
     "output_type": "stream",
     "text": [
      "WARNING: Ignoring invalid distribution -lask (c:\\users\\diogo\\anaconda3\\lib\\site-packages)\n",
      "WARNING: Ignoring invalid distribution -lask (c:\\users\\diogo\\anaconda3\\lib\\site-packages)\n",
      "WARNING: Ignoring invalid distribution -lask (c:\\users\\diogo\\anaconda3\\lib\\site-packages)\n",
      "WARNING: Ignoring invalid distribution -lask (c:\\users\\diogo\\anaconda3\\lib\\site-packages)\n",
      "WARNING: Ignoring invalid distribution -lask (c:\\users\\diogo\\anaconda3\\lib\\site-packages)\n",
      "WARNING: Ignoring invalid distribution -lask (c:\\users\\diogo\\anaconda3\\lib\\site-packages)\n"
     ]
    },
    {
     "name": "stdout",
     "output_type": "stream",
     "text": [
      "Requirement already satisfied: metatrader5 in c:\\users\\diogo\\anaconda3\\lib\\site-packages (5.0.44)\n",
      "Requirement already satisfied: numpy>=1.7 in c:\\users\\diogo\\anaconda3\\lib\\site-packages (from metatrader5) (1.24.2)\n"
     ]
    },
    {
     "name": "stderr",
     "output_type": "stream",
     "text": [
      "WARNING: Ignoring invalid distribution -lask (c:\\users\\diogo\\anaconda3\\lib\\site-packages)\n",
      "WARNING: Ignoring invalid distribution -lask (c:\\users\\diogo\\anaconda3\\lib\\site-packages)\n",
      "WARNING: Ignoring invalid distribution -lask (c:\\users\\diogo\\anaconda3\\lib\\site-packages)\n",
      "WARNING: Ignoring invalid distribution -lask (c:\\users\\diogo\\anaconda3\\lib\\site-packages)\n",
      "WARNING: Ignoring invalid distribution -lask (c:\\users\\diogo\\anaconda3\\lib\\site-packages)\n",
      "WARNING: Ignoring invalid distribution -lask (c:\\users\\diogo\\anaconda3\\lib\\site-packages)\n"
     ]
    },
    {
     "name": "stdout",
     "output_type": "stream",
     "text": [
      "Requirement already satisfied: numpy in c:\\users\\diogo\\anaconda3\\lib\\site-packages (1.24.2)\n"
     ]
    },
    {
     "name": "stderr",
     "output_type": "stream",
     "text": [
      "WARNING: Ignoring invalid distribution -lask (c:\\users\\diogo\\anaconda3\\lib\\site-packages)\n",
      "WARNING: Ignoring invalid distribution -lask (c:\\users\\diogo\\anaconda3\\lib\\site-packages)\n",
      "WARNING: Ignoring invalid distribution -lask (c:\\users\\diogo\\anaconda3\\lib\\site-packages)\n",
      "WARNING: Ignoring invalid distribution -lask (c:\\users\\diogo\\anaconda3\\lib\\site-packages)\n",
      "WARNING: Ignoring invalid distribution -lask (c:\\users\\diogo\\anaconda3\\lib\\site-packages)\n",
      "WARNING: Ignoring invalid distribution -lask (c:\\users\\diogo\\anaconda3\\lib\\site-packages)\n"
     ]
    }
   ],
   "source": [
    "! pip install metatrader5"
   ]
  },
  {
   "cell_type": "markdown",
   "id": "907a63b0",
   "metadata": {},
   "source": [
    "# Importando Bibliotecas"
   ]
  },
  {
   "cell_type": "code",
   "execution_count": 6,
   "id": "3716c19a",
   "metadata": {},
   "outputs": [],
   "source": [
    "import pandas as pd\n",
    "import numpy as np\n",
    "import MetaTrader5 as mt5\n",
    "import datetime\n",
    "import warnings\n",
    "warnings.filterwarnings('ignore')"
   ]
  },
  {
   "cell_type": "markdown",
   "id": "401806bc",
   "metadata": {},
   "source": [
    "# Testando Conexão Com MetaTrader5"
   ]
  },
  {
   "cell_type": "code",
   "execution_count": 235,
   "id": "ce5b6c83",
   "metadata": {},
   "outputs": [
    {
     "name": "stdout",
     "output_type": "stream",
     "text": [
      "========== Início das Informações de Login e Conta ==========\n",
      "Login Account: XXXXXX\n",
      "Account Name: XXXXXX\n",
      "Login Server: XPMT5-PROD\n",
      "Account Leverage:  1\n",
      "Account Balance:  9879768.79\n",
      "Account Buying Power in Million:  9.88\n",
      "Terminal:  MetaTrader 5\n",
      "Terminal Connected:  True\n",
      "Trade Allowed:  False\n",
      "Trade API Disabled:  False\n",
      "========== Final das Informações de Login e Conta ==========\n"
     ]
    }
   ],
   "source": [
    "def init_mt5(msg=True):\n",
    "    path = r'C:\\Program Files\\MetaTrader 5'\n",
    "    TERMINAL = r'\\terminal64.exe'\n",
    "    terminal = path + TERMINAL\n",
    "    if not mt5.initialize(terminal):\n",
    "        print(\"Falha ao inicializar o MetaTrader 5\",mt5.last_error())\n",
    "        quit()\n",
    "    acct_info = mt5.account_info()._asdict()\n",
    "    term_info = mt5.terminal_info()._asdict()\n",
    "    if msg == True:\n",
    "        print('========== Início das Informações de Login e Conta ==========')\n",
    "        print('Login Account: ', acct_info['login'])\n",
    "        print('Account Name: ', acct_info['name'])\n",
    "        print('Login Server: ', acct_info['server'])\n",
    "        print('Account Leverage: ', acct_info['leverage'])\n",
    "        print('Account Balance: ', acct_info['balance'])\n",
    "        print('Account Buying Power in Million: ', round(acct_info['leverage'] * acct_info['balance'] / 1_000_000, 3))\n",
    "        print('Terminal: ', term_info['name'])\n",
    "        print('Terminal Connected: ', term_info['connected'])\n",
    "        print('Trade Allowed: ', term_info['trade_allowed'])\n",
    "        print('Trade API Disabled: ', term_info['tradeapi_disabled'])\n",
    "        print('========== Final das Informações de Login e Conta ==========')\n",
    "init_mt5()"
   ]
  },
  {
   "cell_type": "markdown",
   "id": "45952fa3",
   "metadata": {},
   "source": [
    "# 0. Variáveis TimeFrame\n",
    "\n",
    "    **Lista de Possíveis Variáveis Para Coletar Diferêntes Time Frames**\n",
    "    mt5.TIMEFRAME_M1 = 1 minuto\n",
    "    mt5.TIMEFRAME_M2 = 2 minutos\n",
    "    mt5.TIMEFRAME_M3 = 3 minutos\n",
    "    mt5.TIMEFRAME_M4 = 4 minutos\n",
    "    mt5.TIMEFRAME_M5 = 5 minutos\n",
    "    mt5.TIMEFRAME_M6 = 6 minutos\n",
    "    mt5.TIMEFRAME_M10 = 10 minutos\n",
    "    mt5.TIMEFRAME_M12 = 12 minutos\n",
    "    mt5.TIMEFRAME_M15 = 15 minutos\n",
    "    mt5.TIMEFRAME_M20 = 20 minutos\n",
    "    mt5.TIMEFRAME_M30 = 30 minutos\n",
    "    mt5.TIMEFRAME_H1 = 1 hora\n",
    "    mt5.TIMEFRAME_H2 = 2 horas\n",
    "    mt5.TIMEFRAME_H3 = 3 horas\n",
    "    mt5.TIMEFRAME_H4 = 4 horas\n",
    "    mt5.TIMEFRAME_H6 = 6 horas\n",
    "    mt5.TIMEFRAME_H8 = 8 horas\n",
    "    mt5.TIMEFRAME_H12 = 12 horas\n",
    "    mt5.TIMEFRAME_D1 = 1 dia\n",
    "    mt5.TIMEFRAME_W1 = 1 semana\n",
    "    mt5.TIMEFRAME_MN1 = 1 mês"
   ]
  },
  {
   "cell_type": "markdown",
   "id": "57c56d6c",
   "metadata": {},
   "source": [
    "# 1. Coletando OHLC de Um Único Ativo\n",
    "### Legenda\n",
    "    O = Open (Preço Inicial Do Ativo Durante o TimeFrame Selecionado)\n",
    "    H = High (Preço Máximo Do Ativo Durante o TimeFrame Selecionado)\n",
    "    L = Low (Preço de Mínimo Do Ativo Durante o TimeFrame Selecionado)\n",
    "    C = Close (Preço Final Do Ativo Durante o TimeFrame Selecionado)"
   ]
  },
  {
   "cell_type": "markdown",
   "id": "b4459efd",
   "metadata": {},
   "source": [
    "#### Variáveis"
   ]
  },
  {
   "cell_type": "code",
   "execution_count": 221,
   "id": "aed004d4",
   "metadata": {},
   "outputs": [],
   "source": [
    "# Ativo\n",
    "ativo = ('wege3').upper()\n",
    "\n",
    "# Definir Time Frame das Cotações\n",
    "tf = mt5.TIMEFRAME_D1 \n",
    "    \n",
    "# Definir Número de Cotações\n",
    "cotacoes = 100 "
   ]
  },
  {
   "cell_type": "code",
   "execution_count": 222,
   "id": "e6310a6b",
   "metadata": {},
   "outputs": [
    {
     "data": {
      "text/html": [
       "<div>\n",
       "<style scoped>\n",
       "    .dataframe tbody tr th:only-of-type {\n",
       "        vertical-align: middle;\n",
       "    }\n",
       "\n",
       "    .dataframe tbody tr th {\n",
       "        vertical-align: top;\n",
       "    }\n",
       "\n",
       "    .dataframe thead th {\n",
       "        text-align: right;\n",
       "    }\n",
       "</style>\n",
       "<table border=\"1\" class=\"dataframe\">\n",
       "  <thead>\n",
       "    <tr style=\"text-align: right;\">\n",
       "      <th></th>\n",
       "      <th>open</th>\n",
       "      <th>high</th>\n",
       "      <th>low</th>\n",
       "      <th>close</th>\n",
       "      <th>tick_volume</th>\n",
       "      <th>real_volume</th>\n",
       "    </tr>\n",
       "  </thead>\n",
       "  <tbody>\n",
       "    <tr>\n",
       "      <th>2022-11-17</th>\n",
       "      <td>38.00</td>\n",
       "      <td>39.44</td>\n",
       "      <td>37.22</td>\n",
       "      <td>39.23</td>\n",
       "      <td>27598</td>\n",
       "      <td>8238900</td>\n",
       "    </tr>\n",
       "    <tr>\n",
       "      <th>2022-11-18</th>\n",
       "      <td>39.24</td>\n",
       "      <td>39.96</td>\n",
       "      <td>38.79</td>\n",
       "      <td>38.97</td>\n",
       "      <td>20554</td>\n",
       "      <td>6670400</td>\n",
       "    </tr>\n",
       "  </tbody>\n",
       "</table>\n",
       "</div>"
      ],
      "text/plain": [
       "             open   high    low  close  tick_volume  real_volume\n",
       "2022-11-17  38.00  39.44  37.22  39.23        27598      8238900\n",
       "2022-11-18  39.24  39.96  38.79  38.97        20554      6670400"
      ]
     },
     "execution_count": 222,
     "metadata": {},
     "output_type": "execute_result"
    }
   ],
   "source": [
    "# Coletando Cotações\n",
    "data = pd.DataFrame(mt5.copy_rates_from_pos(ativo, tf, 0, cotacoes))\n",
    "\n",
    "# Excluir Coluna Indesejada\n",
    "del data['spread']\n",
    "\n",
    "# Definir Colunas 'time' Como Index\n",
    "data.set_index('time', inplace=True)\n",
    "\n",
    "# Converter Formato Index Para DateTime\n",
    "data.index = pd.to_datetime(data.index, unit='s').date\n",
    "\n",
    "# Copiar DataFrame\n",
    "df = data.copy()\n",
    "\n",
    "# Verificar Dados Coletados\n",
    "df.head(2)"
   ]
  },
  {
   "cell_type": "markdown",
   "id": "b507db87",
   "metadata": {},
   "source": [
    "### Salvar Dados em Formato .CSV"
   ]
  },
  {
   "cell_type": "code",
   "execution_count": 223,
   "id": "fa5e6180",
   "metadata": {},
   "outputs": [
    {
     "data": {
      "text/html": [
       "<div>\n",
       "<style scoped>\n",
       "    .dataframe tbody tr th:only-of-type {\n",
       "        vertical-align: middle;\n",
       "    }\n",
       "\n",
       "    .dataframe tbody tr th {\n",
       "        vertical-align: top;\n",
       "    }\n",
       "\n",
       "    .dataframe thead th {\n",
       "        text-align: right;\n",
       "    }\n",
       "</style>\n",
       "<table border=\"1\" class=\"dataframe\">\n",
       "  <thead>\n",
       "    <tr style=\"text-align: right;\">\n",
       "      <th></th>\n",
       "      <th>open</th>\n",
       "      <th>high</th>\n",
       "      <th>low</th>\n",
       "      <th>close</th>\n",
       "      <th>tick_volume</th>\n",
       "      <th>real_volume</th>\n",
       "    </tr>\n",
       "  </thead>\n",
       "  <tbody>\n",
       "    <tr>\n",
       "      <th>2023-04-10</th>\n",
       "      <td>38,51</td>\n",
       "      <td>38,76</td>\n",
       "      <td>38,17</td>\n",
       "      <td>38,33</td>\n",
       "      <td>8758</td>\n",
       "      <td>4469500</td>\n",
       "    </tr>\n",
       "    <tr>\n",
       "      <th>2023-04-11</th>\n",
       "      <td>38,65</td>\n",
       "      <td>39,33</td>\n",
       "      <td>38,64</td>\n",
       "      <td>39,04</td>\n",
       "      <td>6551</td>\n",
       "      <td>3798200</td>\n",
       "    </tr>\n",
       "  </tbody>\n",
       "</table>\n",
       "</div>"
      ],
      "text/plain": [
       "             open   high    low  close  tick_volume  real_volume\n",
       "2023-04-10  38,51  38,76  38,17  38,33         8758      4469500\n",
       "2023-04-11  38,65  39,33  38,64  39,04         6551      3798200"
      ]
     },
     "execution_count": 223,
     "metadata": {},
     "output_type": "execute_result"
    }
   ],
   "source": [
    "# Copiar DataFrame\n",
    "df_csv = df.copy()\n",
    "\n",
    "# Substitui todos os pontos por vírgulas\n",
    "df_csv = df_csv.round(2)\n",
    "df_csv = df_csv.applymap(lambda x: str(x).replace('.', ','))\n",
    "\n",
    "# Salvar DataFrame em Formato .CSV\n",
    "df_csv.to_csv('Single_OHLC.csv', index=True)\n",
    "\n",
    "# Conferir Arquivo Salvo\n",
    "pd.read_csv('Single_OHLC.csv', index_col=0).tail(2)"
   ]
  },
  {
   "cell_type": "markdown",
   "id": "6c9416dd",
   "metadata": {},
   "source": [
    "# 2. Coletando Fechamento de Um Único Ativo\n",
    "### Comumente apenas o preço de fechamento (Close) é utilizado para analises."
   ]
  },
  {
   "cell_type": "markdown",
   "id": "fe52b7f7",
   "metadata": {},
   "source": [
    "#### Variáveis"
   ]
  },
  {
   "cell_type": "code",
   "execution_count": 224,
   "id": "cc962fb0",
   "metadata": {},
   "outputs": [],
   "source": [
    "# Ativo\n",
    "ativo = ('wege3').upper()\n",
    "\n",
    "# Definir Time Frame das Cotações\n",
    "tf = mt5.TIMEFRAME_D1 \n",
    "\n",
    "# Definir Número de Cotações\n",
    "cotacoes = 100 "
   ]
  },
  {
   "cell_type": "code",
   "execution_count": 225,
   "id": "b3aec5bc",
   "metadata": {},
   "outputs": [
    {
     "data": {
      "text/html": [
       "<div>\n",
       "<style scoped>\n",
       "    .dataframe tbody tr th:only-of-type {\n",
       "        vertical-align: middle;\n",
       "    }\n",
       "\n",
       "    .dataframe tbody tr th {\n",
       "        vertical-align: top;\n",
       "    }\n",
       "\n",
       "    .dataframe thead th {\n",
       "        text-align: right;\n",
       "    }\n",
       "</style>\n",
       "<table border=\"1\" class=\"dataframe\">\n",
       "  <thead>\n",
       "    <tr style=\"text-align: right;\">\n",
       "      <th></th>\n",
       "      <th>WEGE3</th>\n",
       "    </tr>\n",
       "  </thead>\n",
       "  <tbody>\n",
       "    <tr>\n",
       "      <th>2022-11-17</th>\n",
       "      <td>39.23</td>\n",
       "    </tr>\n",
       "    <tr>\n",
       "      <th>2022-11-18</th>\n",
       "      <td>38.97</td>\n",
       "    </tr>\n",
       "  </tbody>\n",
       "</table>\n",
       "</div>"
      ],
      "text/plain": [
       "            WEGE3\n",
       "2022-11-17  39.23\n",
       "2022-11-18  38.97"
      ]
     },
     "execution_count": 225,
     "metadata": {},
     "output_type": "execute_result"
    }
   ],
   "source": [
    "# Coletando Cotações\n",
    "data = pd.DataFrame(mt5.copy_rates_from_pos(ativo, tf, 0, cotacoes))[['time','close']]\n",
    "\n",
    "# Definir Colunas 'time' Como Index\n",
    "data.set_index('time', inplace=True)\n",
    "\n",
    "# Converter Formato Index Para DateTime\n",
    "data.index = pd.to_datetime(data.index, unit='s').date\n",
    "\n",
    "# Renomerar Colunas\n",
    "data = data.rename({'close': ativo}, axis=1)\n",
    "\n",
    "# Copiar DataFrame\n",
    "df = data.copy()\n",
    "\n",
    "# Verificar Dados Coletados\n",
    "df.head(2)"
   ]
  },
  {
   "cell_type": "markdown",
   "id": "a8e66110",
   "metadata": {},
   "source": [
    "### Salvar Dados em Formato .CSV"
   ]
  },
  {
   "cell_type": "code",
   "execution_count": 226,
   "id": "1e533596",
   "metadata": {},
   "outputs": [
    {
     "data": {
      "text/html": [
       "<div>\n",
       "<style scoped>\n",
       "    .dataframe tbody tr th:only-of-type {\n",
       "        vertical-align: middle;\n",
       "    }\n",
       "\n",
       "    .dataframe tbody tr th {\n",
       "        vertical-align: top;\n",
       "    }\n",
       "\n",
       "    .dataframe thead th {\n",
       "        text-align: right;\n",
       "    }\n",
       "</style>\n",
       "<table border=\"1\" class=\"dataframe\">\n",
       "  <thead>\n",
       "    <tr style=\"text-align: right;\">\n",
       "      <th></th>\n",
       "      <th>WEGE3</th>\n",
       "    </tr>\n",
       "  </thead>\n",
       "  <tbody>\n",
       "    <tr>\n",
       "      <th>2023-04-10</th>\n",
       "      <td>38,33</td>\n",
       "    </tr>\n",
       "    <tr>\n",
       "      <th>2023-04-11</th>\n",
       "      <td>39,04</td>\n",
       "    </tr>\n",
       "  </tbody>\n",
       "</table>\n",
       "</div>"
      ],
      "text/plain": [
       "            WEGE3\n",
       "2023-04-10  38,33\n",
       "2023-04-11  39,04"
      ]
     },
     "execution_count": 226,
     "metadata": {},
     "output_type": "execute_result"
    }
   ],
   "source": [
    "# Copiar DataFrame\n",
    "df_csv = df.copy()\n",
    "\n",
    "# Substitui todos os pontos por vírgulas\n",
    "df_csv = df_csv.round(2)\n",
    "df_csv = df_csv.applymap(lambda x: str(x).replace('.', ','))\n",
    "\n",
    "# Salvar DataFrame em Formato .CSV\n",
    "df_csv.to_csv('Single_Close.csv', index=True)\n",
    "\n",
    "# Conferir Arquivo Salvo\n",
    "pd.read_csv('Single_Close.csv', index_col=0).tail(2)"
   ]
  },
  {
   "cell_type": "markdown",
   "id": "fb07f1b0",
   "metadata": {},
   "source": [
    "# 3. Coletando Fechamento de Múltiplos Ativos"
   ]
  },
  {
   "cell_type": "markdown",
   "id": "eb0dd737",
   "metadata": {},
   "source": [
    "#### Variáveis"
   ]
  },
  {
   "cell_type": "code",
   "execution_count": 227,
   "id": "1540e7fe",
   "metadata": {},
   "outputs": [],
   "source": [
    "# Lista de Ativos\n",
    "ativos = ['COGN3','VALE3','WEGE3','cogn3']\n",
    "\n",
    "# Definir Time Frame das Cotações\n",
    "tf = mt5.TIMEFRAME_D1 \n",
    "\n",
    "# Definir Número de Cotações\n",
    "cotacoes = 100 "
   ]
  },
  {
   "cell_type": "code",
   "execution_count": 228,
   "id": "5360fa31",
   "metadata": {},
   "outputs": [
    {
     "data": {
      "text/html": [
       "<div>\n",
       "<style scoped>\n",
       "    .dataframe tbody tr th:only-of-type {\n",
       "        vertical-align: middle;\n",
       "    }\n",
       "\n",
       "    .dataframe tbody tr th {\n",
       "        vertical-align: top;\n",
       "    }\n",
       "\n",
       "    .dataframe thead th {\n",
       "        text-align: right;\n",
       "    }\n",
       "</style>\n",
       "<table border=\"1\" class=\"dataframe\">\n",
       "  <thead>\n",
       "    <tr style=\"text-align: right;\">\n",
       "      <th></th>\n",
       "      <th>COGN3</th>\n",
       "      <th>VALE3</th>\n",
       "      <th>WEGE3</th>\n",
       "      <th>COGN3</th>\n",
       "    </tr>\n",
       "  </thead>\n",
       "  <tbody>\n",
       "    <tr>\n",
       "      <th>2022-11-17</th>\n",
       "      <td>2.35</td>\n",
       "      <td>81.08</td>\n",
       "      <td>39.23</td>\n",
       "      <td>2.35</td>\n",
       "    </tr>\n",
       "    <tr>\n",
       "      <th>2022-11-18</th>\n",
       "      <td>2.26</td>\n",
       "      <td>78.86</td>\n",
       "      <td>38.97</td>\n",
       "      <td>2.26</td>\n",
       "    </tr>\n",
       "  </tbody>\n",
       "</table>\n",
       "</div>"
      ],
      "text/plain": [
       "            COGN3  VALE3  WEGE3  COGN3\n",
       "2022-11-17   2.35  81.08  39.23   2.35\n",
       "2022-11-18   2.26  78.86  38.97   2.26"
      ]
     },
     "execution_count": 228,
     "metadata": {},
     "output_type": "execute_result"
    }
   ],
   "source": [
    "# Coletando Loop Cotações\n",
    "df = pd.DataFrame()\n",
    "for i in ativos:\n",
    "    \n",
    "    # Transformar o Código do Ativo Em Caixa-Alta\n",
    "    i = i.upper()\n",
    "    \n",
    "    # Coletar Dados\n",
    "    data = pd.DataFrame(mt5.copy_rates_from_pos(i.upper(), tf, 0, cotacoes))[['time','close']]\n",
    "    \n",
    "    # Definir Colunas 'time' Como Index\n",
    "    data.set_index('time', inplace=True)\n",
    "    \n",
    "    # Converter Formato Index Para DateTime\n",
    "    data.index = pd.to_datetime(data.index, unit='s').date\n",
    "    \n",
    "    # Renomerar Colunas\n",
    "    data = data.rename({'close': i}, axis=1)\n",
    "    \n",
    "    # Concatenar Cotações Coletadas de Diferentes Ativos\n",
    "    df = pd.concat([df, data], axis=1)\n",
    "\n",
    "# Verificar Dados Coletados\n",
    "df.head(2)"
   ]
  },
  {
   "cell_type": "markdown",
   "id": "aa29414f",
   "metadata": {},
   "source": [
    "### Salvar Dados em Formato .CSV"
   ]
  },
  {
   "cell_type": "code",
   "execution_count": 229,
   "id": "21d5d021",
   "metadata": {},
   "outputs": [
    {
     "data": {
      "text/html": [
       "<div>\n",
       "<style scoped>\n",
       "    .dataframe tbody tr th:only-of-type {\n",
       "        vertical-align: middle;\n",
       "    }\n",
       "\n",
       "    .dataframe tbody tr th {\n",
       "        vertical-align: top;\n",
       "    }\n",
       "\n",
       "    .dataframe thead th {\n",
       "        text-align: right;\n",
       "    }\n",
       "</style>\n",
       "<table border=\"1\" class=\"dataframe\">\n",
       "  <thead>\n",
       "    <tr style=\"text-align: right;\">\n",
       "      <th></th>\n",
       "      <th>COGN3</th>\n",
       "      <th>VALE3</th>\n",
       "      <th>WEGE3</th>\n",
       "      <th>COGN3.1</th>\n",
       "    </tr>\n",
       "  </thead>\n",
       "  <tbody>\n",
       "    <tr>\n",
       "      <th>2023-04-10</th>\n",
       "      <td>1,77</td>\n",
       "      <td>78,16</td>\n",
       "      <td>38,33</td>\n",
       "      <td>1,77</td>\n",
       "    </tr>\n",
       "    <tr>\n",
       "      <th>2023-04-11</th>\n",
       "      <td>1,93</td>\n",
       "      <td>82,84</td>\n",
       "      <td>39,04</td>\n",
       "      <td>1,93</td>\n",
       "    </tr>\n",
       "  </tbody>\n",
       "</table>\n",
       "</div>"
      ],
      "text/plain": [
       "           COGN3  VALE3  WEGE3 COGN3.1\n",
       "2023-04-10  1,77  78,16  38,33    1,77\n",
       "2023-04-11  1,93  82,84  39,04    1,93"
      ]
     },
     "execution_count": 229,
     "metadata": {},
     "output_type": "execute_result"
    }
   ],
   "source": [
    "# Copiar DataFrame\n",
    "df_csv = df.copy()\n",
    "\n",
    "# Substitui todos os pontos por vírgulas\n",
    "df_csv = df_csv.round(2)\n",
    "df_csv = df_csv.applymap(lambda x: str(x).replace('.', ','))\n",
    "\n",
    "# Salvar DataFrame em Formato .CSV\n",
    "df_csv.to_csv('Multi_Close.csv', index=True)\n",
    "\n",
    "# Conferir Arquivo Salvo\n",
    "pd.read_csv('Multi_Close.csv', index_col=0).tail(2)"
   ]
  },
  {
   "cell_type": "markdown",
   "id": "0e81249c",
   "metadata": {},
   "source": [
    "# 4. Coletando OHLC de Múltiplos Ativos\n",
    "### Legenda\n",
    "    O = Open (Preço Inicial Do Ativo Durante o TimeFrame Selecionado)\n",
    "    H = High (Preço Máximo Do Ativo Durante o TimeFrame Selecionado)\n",
    "    L = Low (Preço de Mínimo Do Ativo Durante o TimeFrame Selecionado)\n",
    "    C = Close (Preço Final Do Ativo Durante o TimeFrame Selecionado)"
   ]
  },
  {
   "cell_type": "markdown",
   "id": "d5cd4a9f",
   "metadata": {},
   "source": [
    "#### Variáveis"
   ]
  },
  {
   "cell_type": "code",
   "execution_count": 230,
   "id": "3e1deb61",
   "metadata": {},
   "outputs": [],
   "source": [
    "# Lista de Ativos\n",
    "ativos = ['COGN3','VALE3','WEGE3','cogn3']\n",
    "\n",
    "# Definir Time Frame das Cotações\n",
    "tf = mt5.TIMEFRAME_D1 \n",
    "\n",
    "# Definir Número de Cotações\n",
    "cotacoes = 100 "
   ]
  },
  {
   "cell_type": "markdown",
   "id": "5691f5dc",
   "metadata": {},
   "source": [
    "### Coletar Dados"
   ]
  },
  {
   "cell_type": "code",
   "execution_count": 231,
   "id": "61fb5119",
   "metadata": {},
   "outputs": [
    {
     "data": {
      "text/html": [
       "<div>\n",
       "<style scoped>\n",
       "    .dataframe tbody tr th:only-of-type {\n",
       "        vertical-align: middle;\n",
       "    }\n",
       "\n",
       "    .dataframe tbody tr th {\n",
       "        vertical-align: top;\n",
       "    }\n",
       "\n",
       "    .dataframe thead th {\n",
       "        text-align: right;\n",
       "    }\n",
       "</style>\n",
       "<table border=\"1\" class=\"dataframe\">\n",
       "  <thead>\n",
       "    <tr style=\"text-align: right;\">\n",
       "      <th></th>\n",
       "      <th>COGN3_O</th>\n",
       "      <th>COGN3_H</th>\n",
       "      <th>COGN3_L</th>\n",
       "      <th>COGN3_C</th>\n",
       "      <th>VALE3_O</th>\n",
       "      <th>VALE3_H</th>\n",
       "      <th>VALE3_L</th>\n",
       "      <th>VALE3_C</th>\n",
       "      <th>WEGE3_O</th>\n",
       "      <th>WEGE3_H</th>\n",
       "      <th>WEGE3_L</th>\n",
       "      <th>WEGE3_C</th>\n",
       "      <th>COGN3_O</th>\n",
       "      <th>COGN3_H</th>\n",
       "      <th>COGN3_L</th>\n",
       "      <th>COGN3_C</th>\n",
       "    </tr>\n",
       "  </thead>\n",
       "  <tbody>\n",
       "    <tr>\n",
       "      <th>2022-11-17</th>\n",
       "      <td>2.36</td>\n",
       "      <td>2.38</td>\n",
       "      <td>2.25</td>\n",
       "      <td>2.35</td>\n",
       "      <td>78.9</td>\n",
       "      <td>81.26</td>\n",
       "      <td>78.78</td>\n",
       "      <td>81.08</td>\n",
       "      <td>38.00</td>\n",
       "      <td>39.44</td>\n",
       "      <td>37.22</td>\n",
       "      <td>39.23</td>\n",
       "      <td>2.36</td>\n",
       "      <td>2.38</td>\n",
       "      <td>2.25</td>\n",
       "      <td>2.35</td>\n",
       "    </tr>\n",
       "    <tr>\n",
       "      <th>2022-11-18</th>\n",
       "      <td>2.40</td>\n",
       "      <td>2.45</td>\n",
       "      <td>2.25</td>\n",
       "      <td>2.26</td>\n",
       "      <td>82.3</td>\n",
       "      <td>82.43</td>\n",
       "      <td>78.74</td>\n",
       "      <td>78.86</td>\n",
       "      <td>39.24</td>\n",
       "      <td>39.96</td>\n",
       "      <td>38.79</td>\n",
       "      <td>38.97</td>\n",
       "      <td>2.40</td>\n",
       "      <td>2.45</td>\n",
       "      <td>2.25</td>\n",
       "      <td>2.26</td>\n",
       "    </tr>\n",
       "  </tbody>\n",
       "</table>\n",
       "</div>"
      ],
      "text/plain": [
       "            COGN3_O  COGN3_H  COGN3_L  COGN3_C  VALE3_O  VALE3_H  VALE3_L  \\\n",
       "2022-11-17     2.36     2.38     2.25     2.35     78.9    81.26    78.78   \n",
       "2022-11-18     2.40     2.45     2.25     2.26     82.3    82.43    78.74   \n",
       "\n",
       "            VALE3_C  WEGE3_O  WEGE3_H  WEGE3_L  WEGE3_C  COGN3_O  COGN3_H  \\\n",
       "2022-11-17    81.08    38.00    39.44    37.22    39.23     2.36     2.38   \n",
       "2022-11-18    78.86    39.24    39.96    38.79    38.97     2.40     2.45   \n",
       "\n",
       "            COGN3_L  COGN3_C  \n",
       "2022-11-17     2.25     2.35  \n",
       "2022-11-18     2.25     2.26  "
      ]
     },
     "execution_count": 231,
     "metadata": {},
     "output_type": "execute_result"
    }
   ],
   "source": [
    "# Loop de Cotações\n",
    "df = pd.DataFrame()\n",
    "for i in ativos:\n",
    "    \n",
    "    # Transformar o Código do Ativo Em Caixa-Alta\n",
    "    i = i.upper()\n",
    "    \n",
    "    # Coletar Dados\n",
    "    data = pd.DataFrame(mt5.copy_rates_from_pos(i.upper(), tf, 0, cotacoes)).iloc[:,[0,1,2,3,4]]\n",
    "    \n",
    "    # Definir Colunas 'time' Como Index\n",
    "    data.set_index('time', inplace=True)\n",
    "    \n",
    "    # Converter Formato Index Para DateTime\n",
    "    data.index = pd.to_datetime(data.index, unit='s').date\n",
    "    \n",
    "    # Renomerar Colunas\n",
    "    data = data.rename({'open': i+'_O', \n",
    "                        'high': i+'_H',\n",
    "                        'low': i+'_L',\n",
    "                        'close': i+'_C'\n",
    "                       }, axis=1)\n",
    "    \n",
    "    # Concatenar Cotações Coletadas de Diferentes Ativos\n",
    "    df = pd.concat([df, data], axis=1)\n",
    "    \n",
    "# Verificar Dados Coletados \n",
    "df.head(2)"
   ]
  },
  {
   "cell_type": "markdown",
   "id": "d47b3dd5",
   "metadata": {},
   "source": [
    "### Salvar Dados em Formato .CSV"
   ]
  },
  {
   "cell_type": "code",
   "execution_count": 232,
   "id": "46f81267",
   "metadata": {},
   "outputs": [
    {
     "data": {
      "text/html": [
       "<div>\n",
       "<style scoped>\n",
       "    .dataframe tbody tr th:only-of-type {\n",
       "        vertical-align: middle;\n",
       "    }\n",
       "\n",
       "    .dataframe tbody tr th {\n",
       "        vertical-align: top;\n",
       "    }\n",
       "\n",
       "    .dataframe thead th {\n",
       "        text-align: right;\n",
       "    }\n",
       "</style>\n",
       "<table border=\"1\" class=\"dataframe\">\n",
       "  <thead>\n",
       "    <tr style=\"text-align: right;\">\n",
       "      <th></th>\n",
       "      <th>COGN3_O</th>\n",
       "      <th>COGN3_H</th>\n",
       "      <th>COGN3_L</th>\n",
       "      <th>COGN3_C</th>\n",
       "      <th>VALE3_O</th>\n",
       "      <th>VALE3_H</th>\n",
       "      <th>VALE3_L</th>\n",
       "      <th>VALE3_C</th>\n",
       "      <th>WEGE3_O</th>\n",
       "      <th>WEGE3_H</th>\n",
       "      <th>WEGE3_L</th>\n",
       "      <th>WEGE3_C</th>\n",
       "      <th>COGN3_O.1</th>\n",
       "      <th>COGN3_H.1</th>\n",
       "      <th>COGN3_L.1</th>\n",
       "      <th>COGN3_C.1</th>\n",
       "    </tr>\n",
       "  </thead>\n",
       "  <tbody>\n",
       "    <tr>\n",
       "      <th>2023-04-10</th>\n",
       "      <td>1,79</td>\n",
       "      <td>1,8</td>\n",
       "      <td>1,76</td>\n",
       "      <td>1,77</td>\n",
       "      <td>76,75</td>\n",
       "      <td>78,26</td>\n",
       "      <td>76,7</td>\n",
       "      <td>78,16</td>\n",
       "      <td>38,51</td>\n",
       "      <td>38,76</td>\n",
       "      <td>38,17</td>\n",
       "      <td>38,33</td>\n",
       "      <td>1,79</td>\n",
       "      <td>1,8</td>\n",
       "      <td>1,76</td>\n",
       "      <td>1,77</td>\n",
       "    </tr>\n",
       "    <tr>\n",
       "      <th>2023-04-11</th>\n",
       "      <td>1,8</td>\n",
       "      <td>1,94</td>\n",
       "      <td>1,8</td>\n",
       "      <td>1,93</td>\n",
       "      <td>80,5</td>\n",
       "      <td>82,9</td>\n",
       "      <td>80,06</td>\n",
       "      <td>82,84</td>\n",
       "      <td>38,65</td>\n",
       "      <td>39,33</td>\n",
       "      <td>38,64</td>\n",
       "      <td>39,04</td>\n",
       "      <td>1,8</td>\n",
       "      <td>1,94</td>\n",
       "      <td>1,8</td>\n",
       "      <td>1,93</td>\n",
       "    </tr>\n",
       "  </tbody>\n",
       "</table>\n",
       "</div>"
      ],
      "text/plain": [
       "           COGN3_O COGN3_H COGN3_L COGN3_C VALE3_O VALE3_H VALE3_L VALE3_C  \\\n",
       "2023-04-10    1,79     1,8    1,76    1,77   76,75   78,26    76,7   78,16   \n",
       "2023-04-11     1,8    1,94     1,8    1,93    80,5    82,9   80,06   82,84   \n",
       "\n",
       "           WEGE3_O WEGE3_H WEGE3_L WEGE3_C COGN3_O.1 COGN3_H.1 COGN3_L.1  \\\n",
       "2023-04-10   38,51   38,76   38,17   38,33      1,79       1,8      1,76   \n",
       "2023-04-11   38,65   39,33   38,64   39,04       1,8      1,94       1,8   \n",
       "\n",
       "           COGN3_C.1  \n",
       "2023-04-10      1,77  \n",
       "2023-04-11      1,93  "
      ]
     },
     "execution_count": 232,
     "metadata": {},
     "output_type": "execute_result"
    }
   ],
   "source": [
    "# Copiar DataFrame\n",
    "df_csv = df.copy()\n",
    "\n",
    "# Substitui todos os pontos por vírgulas\n",
    "df_csv = df_csv.round(2)\n",
    "df_csv = df_csv.applymap(lambda x: str(x).replace('.', ','))\n",
    "\n",
    "# Salvar DataFrame em Formato .CSV\n",
    "df_csv.to_csv('Multi_OHLC.csv', index=True)\n",
    "\n",
    "# Conferir Arquivo Salvo\n",
    "pd.read_csv('Multi_OHLC.csv', index_col=0).tail(2)"
   ]
  },
  {
   "cell_type": "code",
   "execution_count": 233,
   "id": "5ef93608",
   "metadata": {},
   "outputs": [
    {
     "data": {
      "text/plain": [
       "True"
      ]
     },
     "execution_count": 233,
     "metadata": {},
     "output_type": "execute_result"
    }
   ],
   "source": [
    "# Encerrar Conexão Com o Terminal de Negociações MetaTrader5\n",
    "mt5.shutdown()"
   ]
  }
 ],
 "metadata": {
  "kernelspec": {
   "display_name": "Python 3 (ipykernel)",
   "language": "python",
   "name": "python3"
  },
  "language_info": {
   "codemirror_mode": {
    "name": "ipython",
    "version": 3
   },
   "file_extension": ".py",
   "mimetype": "text/x-python",
   "name": "python",
   "nbconvert_exporter": "python",
   "pygments_lexer": "ipython3",
   "version": "3.9.13"
  }
 },
 "nbformat": 4,
 "nbformat_minor": 5
}
